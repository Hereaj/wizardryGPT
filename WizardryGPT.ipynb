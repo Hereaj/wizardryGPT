{
  "nbformat": 4,
  "nbformat_minor": 0,
  "metadata": {
    "colab": {
      "provenance": []
    },
    "kernelspec": {
      "name": "python3",
      "display_name": "Python 3"
    },
    "language_info": {
      "name": "python"
    }
  },
  "cells": [
    {
      "cell_type": "markdown",
      "source": [
        "# Import libraries"
      ],
      "metadata": {
        "id": "4qQYDMOKf3AG"
      }
    },
    {
      "cell_type": "code",
      "execution_count": 45,
      "metadata": {
        "colab": {
          "base_uri": "https://localhost:8080/"
        },
        "id": "tDSYq7r-fz8X",
        "outputId": "26b5fb84-a420-4620-db82-73d4f306bc58"
      },
      "outputs": [
        {
          "output_type": "stream",
          "name": "stdout",
          "text": [
            "Drive already mounted at /content/drive; to attempt to forcibly remount, call drive.mount(\"/content/drive\", force_remount=True).\n"
          ]
        }
      ],
      "source": [
        "import torch\n",
        "import torch.nn as nn\n",
        "import torch.nn.functional as F\n",
        "from google.colab import drive\n",
        "drive.mount('/content/drive')"
      ]
    },
    {
      "cell_type": "markdown",
      "source": [
        "# Hyperparameters"
      ],
      "metadata": {
        "id": "11lY8x1-gLPI"
      }
    },
    {
      "cell_type": "code",
      "source": [
        "batch_size = 16\n",
        "block_size = 32\n",
        "max_iteration = 5000\n",
        "eval_interval = 100\n",
        "learning_rate = 1e-3\n",
        "device = 'cuda' if torch.cuda.is_available() else 'cpu'\n",
        "eval_iteration = 200\n",
        "n_embd = 64\n",
        "n_head = 4\n",
        "n_layer = 4\n",
        "dropout = 0.0\n",
        "torch.manual_seed(1337) # Random number generator"
      ],
      "metadata": {
        "colab": {
          "base_uri": "https://localhost:8080/"
        },
        "id": "HMUDjKzAgOhi",
        "outputId": "9982105e-9923-4bcc-b59f-9bf773033214"
      },
      "execution_count": 33,
      "outputs": [
        {
          "output_type": "execute_result",
          "data": {
            "text/plain": [
              "<torch._C.Generator at 0x7a3fd13a8c50>"
            ]
          },
          "metadata": {},
          "execution_count": 33
        }
      ]
    },
    {
      "cell_type": "markdown",
      "source": [
        "# Read text file"
      ],
      "metadata": {
        "id": "yecHw4rpiYqQ"
      }
    },
    {
      "cell_type": "code",
      "source": [
        "file_path = '/content/drive/MyDrive/harryPotter/hp1_ss.txt'\n",
        "\n",
        "with open(file_path, 'r', encoding='utf-8') as f:\n",
        "    text = f.read()"
      ],
      "metadata": {
        "id": "kGTxqMETibWH"
      },
      "execution_count": 21,
      "outputs": []
    },
    {
      "cell_type": "markdown",
      "source": [
        "# Data Processing"
      ],
      "metadata": {
        "id": "MKYrWHVpie_0"
      }
    },
    {
      "cell_type": "code",
      "source": [
        "char = sorted(list(set(text)))\n",
        "vocab_size = len(char)\n",
        "print(''.join(char))\n",
        "print(vocab_size)"
      ],
      "metadata": {
        "colab": {
          "base_uri": "https://localhost:8080/"
        },
        "id": "cPiNu67QihNf",
        "outputId": "7476a57c-a3fd-4793-e625-7f38a2859a95"
      },
      "execution_count": 22,
      "outputs": [
        {
          "output_type": "stream",
          "name": "stdout",
          "text": [
            "\t\n",
            " !\"'()*,-.0123456789:;?ABCDEFGHIJKLMNOPQRSTUVWXYZ\\abcdefghijklmnopqrstuvwxyz~\n",
            "79\n"
          ]
        }
      ]
    },
    {
      "cell_type": "code",
      "source": [
        "stoi = { ch:i for i,ch in enumerate(char)}\n",
        "itos = { i:ch for i,ch in enumerate(char)}\n",
        "encode = lambda s: [stoi[c] for c in s]\n",
        "decode = lambda l: ''.join([itos[i] for i in l])"
      ],
      "metadata": {
        "id": "wvusT1y0ioR7"
      },
      "execution_count": 23,
      "outputs": []
    },
    {
      "cell_type": "markdown",
      "source": [
        "# Split train and test set"
      ],
      "metadata": {
        "id": "Ytx2bbhxiuNj"
      }
    },
    {
      "cell_type": "code",
      "source": [
        "data = torch.tensor(encode(text), dtype=torch.long)\n",
        "n = int(0.9*len(data))\n",
        "train_data = data[:n]\n",
        "val_data = data[n:]"
      ],
      "metadata": {
        "id": "jTSLXHhZixxr"
      },
      "execution_count": 24,
      "outputs": []
    },
    {
      "cell_type": "markdown",
      "source": [
        "# Data loading\n"
      ],
      "metadata": {
        "id": "cKwkeYp9i9vU"
      }
    },
    {
      "cell_type": "code",
      "source": [
        "def get_batch(split):\n",
        "    # generate a small batch of data of inputs x and targets y\n",
        "    data = train_data if split == 'train' else val_data\n",
        "    ix = torch.randint(len(data) - block_size, (batch_size,))\n",
        "    x = torch.stack([data[i:i+block_size] for i in ix])\n",
        "    y = torch.stack([data[i+1:i+block_size+1] for i in ix])\n",
        "    x, y = x.to(device), y.to(device)\n",
        "    return x, y"
      ],
      "metadata": {
        "id": "4nSmrFfhi_dC"
      },
      "execution_count": 25,
      "outputs": []
    },
    {
      "cell_type": "code",
      "source": [
        "@torch.no_grad()\n",
        "def estimate_loss():\n",
        "    out = {}\n",
        "    model.eval()\n",
        "    for split in ['train', 'val']:\n",
        "        losses = torch.zeros(eval_iteration)\n",
        "        for k in range(eval_iteration):\n",
        "            X, Y = get_batch(split)\n",
        "            logits, loss = model(X, Y)\n",
        "            losses[k] = loss.item()\n",
        "        out[split] = losses.mean()\n",
        "    model.train()\n",
        "    return out"
      ],
      "metadata": {
        "id": "QluGEoxxjKLh"
      },
      "execution_count": 38,
      "outputs": []
    },
    {
      "cell_type": "markdown",
      "source": [
        "# Classes for self-attention and transformer"
      ],
      "metadata": {
        "id": "tb4ixweGkNeD"
      }
    },
    {
      "cell_type": "code",
      "source": [
        "class Head(nn.Module):\n",
        "\n",
        "  def __init__(self, head_size):\n",
        "    super().__init__()\n",
        "    self.key = nn.Linear(n_embd, head_size, bias=False)\n",
        "    self.query = nn.Linear(n_embd, head_size, bias=False)\n",
        "    self.value = nn.Linear(n_embd, head_size, bias=False)\n",
        "    self.register_buffer('tril', torch.tril(torch.ones(block_size, block_size)))\n",
        "    self.dropout = nn.Dropout(dropout)\n",
        "\n",
        "  def forward(self, x):\n",
        "    B, T, C = x.shape\n",
        "    k = self.key(x)                                                               # (B, T, C)\n",
        "    q = self.query(x)                                                             # (B, T, C)\n",
        "\n",
        "    w = q @ k.transpose(-2, -1) * C**-0.5                                         # (B, T, C) @ (B, C, T) -> (B, T, T) and scale down with C**-0.5\n",
        "    w = w.masked_fill(self.tril[:T, :T] == 0, float('-inf'))                      # (B, T, T)\n",
        "    w = F.softmax(w, dim=-1)                                                      # (B, T, T)\n",
        "    w = self.dropout(w)\n",
        "    v = self.value(x)                                                             # (B, T, C)\n",
        "    out = w @ v                                                                   # (B, T, T) @ (B, T, C) -> (B, T, C)\n",
        "\n",
        "    return out"
      ],
      "metadata": {
        "id": "C5a8rn4jkSDY"
      },
      "execution_count": 43,
      "outputs": []
    },
    {
      "cell_type": "code",
      "source": [
        "class MultiHeadAttention(nn.Module):\n",
        "\n",
        "  def __init__(self, num_heads, head_size):\n",
        "    super().__init__()\n",
        "    self.heads = nn.ModuleList([Head(head_size) for _ in range(num_heads)])\n",
        "    self.projection = nn.Linear(n_embd, n_embd)\n",
        "    self.dropout = nn.Dropout(dropout)\n",
        "\n",
        "  def forward(self, x):\n",
        "    out = torch.cat([h(x) for h in self.heads], dim=-1)\n",
        "    out = self.dropout(self.projection(out))\n",
        "    return out"
      ],
      "metadata": {
        "id": "EcjY_osJmByp"
      },
      "execution_count": 40,
      "outputs": []
    },
    {
      "cell_type": "code",
      "source": [
        "class FeedForward(nn.Module):\n",
        "\n",
        "  def __init__(self, n_embd):\n",
        "    super().__init__()\n",
        "    self.net = nn.Sequential(\n",
        "        nn.Linear(n_embd, 4 * n_embd),\n",
        "        nn.ReLU(),\n",
        "        nn.Linear(4 * n_embd, n_embd),\n",
        "        nn.Dropout(dropout)\n",
        "    )\n",
        "\n",
        "  def forward(self, x):\n",
        "    return self.net(x)"
      ],
      "metadata": {
        "id": "MBQ4n6lInWAQ"
      },
      "execution_count": 29,
      "outputs": []
    },
    {
      "cell_type": "code",
      "source": [
        "class Block(nn.Module):\n",
        "\n",
        "  def __init__(self, n_embd, n_head):\n",
        "    super().__init__()\n",
        "    head_size = n_embd // n_head\n",
        "    self.sa = MultiHeadAttention(n_head, head_size)\n",
        "    self.ffwd = FeedForward(n_embd)\n",
        "    self.ln1 = nn.LayerNorm(n_embd)\n",
        "    self.ln2 = nn.LayerNorm(n_embd)\n",
        "\n",
        "  def forward(self, x):\n",
        "    x = x + self.sa(self.ln1(x))\n",
        "    x = x + self.ffwd(self.ln2(x))\n",
        "    return x"
      ],
      "metadata": {
        "id": "7mqiLtPynuky"
      },
      "execution_count": 30,
      "outputs": []
    },
    {
      "cell_type": "markdown",
      "source": [
        "# Bigram Model"
      ],
      "metadata": {
        "id": "8ZP6f_UhoQ-s"
      }
    },
    {
      "cell_type": "code",
      "source": [
        "class BigramModel(nn.Module):\n",
        "\n",
        "  def __init__(self):\n",
        "    super().__init__()\n",
        "    self.token_embedding_table = nn.Embedding(vocab_size, n_embd)\n",
        "    self.position_embedding_table = nn.Embedding(block_size, n_embd)\n",
        "    self.blocks = nn.Sequential(*[Block(n_embd, n_head=n_head) for _ in range(n_layer)])\n",
        "    self.ln_f = nn.LayerNorm(n_embd)\n",
        "    self.lm_head = nn.Linear(n_embd, vocab_size)\n",
        "\n",
        "  def forward(self, idx, targets=None):\n",
        "    B, T = idx.shape\n",
        "\n",
        "    token_emb = self.token_embedding_table(idx)                                   # (B, T, C)\n",
        "    position_emb = self.position_embedding_table(torch.arange(T, device=device))  # (T, C)\n",
        "    x = token_emb + position_emb                                                  # (B, T, C)\n",
        "    x = self.blocks(x)                                                            # (B, T, C)\n",
        "    x = self.ln_f(x)                                                              # (B, T, C)\n",
        "    logits = self.lm_head(x)                                                      # (B, T, vocab_size)\n",
        "\n",
        "    if targets is None:\n",
        "      loss = None\n",
        "    else:\n",
        "      B, T, C = logits.shape\n",
        "      logits = logits.view(B * T, C)\n",
        "      targets = targets.view(B * T)\n",
        "      loss = F.cross_entropy(logits, targets)\n",
        "\n",
        "    return logits, loss\n",
        "\n",
        "  def generate(self, idx, max_new_tokens):\n",
        "    for _ in range(max_new_tokens):\n",
        "      # Ensure that the input to the model doesn't exceed block_size\n",
        "      idx_cond = idx[:, -block_size:]\n",
        "      logits, loss = self(idx_cond)\n",
        "      logits = logits[:, -1, :]                                                   # (B, C)\n",
        "      probs = F.softmax(logits, dim=-1)                                           # (B, C)\n",
        "      idx_next = torch.multinomial(probs, num_samples=1)                          # (B, 1)\n",
        "      idx = torch.cat((idx, idx_next), dim=1)                                     # (B, T + 1)\n",
        "    return idx"
      ],
      "metadata": {
        "id": "lll1S2uOoQO0"
      },
      "execution_count": 51,
      "outputs": []
    },
    {
      "cell_type": "markdown",
      "source": [
        "# Shall we train?"
      ],
      "metadata": {
        "id": "uvVhavWuqUIi"
      }
    },
    {
      "cell_type": "code",
      "source": [
        "model = BigramModel()\n",
        "m = model.to(device)\n",
        "print(sum(p.numel() for p in m.parameters())/1e6, 'M parameters')\n",
        "\n",
        "optimizer = torch.optim.AdamW(model.parameters(), lr=learning_rate)\n",
        "\n",
        "for iter in range(max_iteration):\n",
        "\n",
        "  if iter % eval_interval == 0:\n",
        "    losses = estimate_loss()\n",
        "    print(f\"step {iter}: train loss {losses['train']:.4f}, val loss {losses['val']:.4f}\")\n",
        "\n",
        "  xb, yb = get_batch('train')\n",
        "\n",
        "  logits, loss = model(xb, yb)\n",
        "  optimizer.zero_grad(set_to_none=True)\n",
        "  loss.backward()\n",
        "  optimizer.step()"
      ],
      "metadata": {
        "colab": {
          "base_uri": "https://localhost:8080/"
        },
        "id": "HZsXxKGsqWQt",
        "outputId": "eb11632f-9649-4902-ea81-3ac9c87f95d2"
      },
      "execution_count": 53,
      "outputs": [
        {
          "output_type": "stream",
          "name": "stdout",
          "text": [
            "0.211535 M parameters\n",
            "step 0: train loss 4.5778, val loss 4.5828\n",
            "step 100: train loss 2.6603, val loss 2.6433\n",
            "step 200: train loss 2.5191, val loss 2.5136\n",
            "step 300: train loss 2.4372, val loss 2.4376\n",
            "step 400: train loss 2.3319, val loss 2.3287\n",
            "step 500: train loss 2.2572, val loss 2.2507\n",
            "step 600: train loss 2.1928, val loss 2.1875\n",
            "step 700: train loss 2.1530, val loss 2.1386\n",
            "step 800: train loss 2.0813, val loss 2.0695\n",
            "step 900: train loss 2.0395, val loss 2.0423\n",
            "step 1000: train loss 1.9930, val loss 1.9903\n",
            "step 1100: train loss 1.9526, val loss 1.9515\n",
            "step 1200: train loss 1.9303, val loss 1.9317\n",
            "step 1300: train loss 1.8998, val loss 1.9112\n",
            "step 1400: train loss 1.8765, val loss 1.8865\n",
            "step 1500: train loss 1.8502, val loss 1.8621\n",
            "step 1600: train loss 1.8359, val loss 1.8412\n",
            "step 1700: train loss 1.7989, val loss 1.8064\n",
            "step 1800: train loss 1.7848, val loss 1.7890\n",
            "step 1900: train loss 1.7654, val loss 1.7779\n",
            "step 2000: train loss 1.7665, val loss 1.7745\n",
            "step 2100: train loss 1.7356, val loss 1.7581\n",
            "step 2200: train loss 1.7181, val loss 1.7401\n",
            "step 2300: train loss 1.7102, val loss 1.7283\n",
            "step 2400: train loss 1.7134, val loss 1.7359\n",
            "step 2500: train loss 1.6984, val loss 1.7141\n",
            "step 2600: train loss 1.6819, val loss 1.7105\n",
            "step 2700: train loss 1.6723, val loss 1.6938\n",
            "step 2800: train loss 1.6604, val loss 1.6938\n",
            "step 2900: train loss 1.6639, val loss 1.7013\n",
            "step 3000: train loss 1.6368, val loss 1.6771\n",
            "step 3100: train loss 1.6395, val loss 1.6757\n",
            "step 3200: train loss 1.6498, val loss 1.6679\n",
            "step 3300: train loss 1.6415, val loss 1.6659\n",
            "step 3400: train loss 1.6138, val loss 1.6604\n",
            "step 3500: train loss 1.6129, val loss 1.6374\n",
            "step 3600: train loss 1.6079, val loss 1.6501\n",
            "step 3700: train loss 1.6008, val loss 1.6461\n",
            "step 3800: train loss 1.5809, val loss 1.6338\n",
            "step 3900: train loss 1.5966, val loss 1.6260\n",
            "step 4000: train loss 1.5840, val loss 1.6321\n",
            "step 4100: train loss 1.5768, val loss 1.6070\n",
            "step 4200: train loss 1.5736, val loss 1.6069\n",
            "step 4300: train loss 1.5713, val loss 1.6187\n",
            "step 4400: train loss 1.5668, val loss 1.6041\n",
            "step 4500: train loss 1.5702, val loss 1.6076\n",
            "step 4600: train loss 1.5578, val loss 1.6096\n",
            "step 4700: train loss 1.5502, val loss 1.5942\n",
            "step 4800: train loss 1.5555, val loss 1.6094\n",
            "step 4900: train loss 1.5370, val loss 1.5943\n"
          ]
        }
      ]
    },
    {
      "cell_type": "markdown",
      "source": [
        "# Generate from the model"
      ],
      "metadata": {
        "id": "qVlRD5Xat1_-"
      }
    },
    {
      "cell_type": "code",
      "source": [
        "context = torch.zeros((1, 1), dtype=torch.long, device=device)\n",
        "print(decode(m.generate(context, max_new_tokens=2000)[0].tolist()))"
      ],
      "metadata": {
        "colab": {
          "base_uri": "https://localhost:8080/"
        },
        "id": "ii0QGzbrt0_p",
        "outputId": "2c5bc188-3ed6-4c6a-d8b6-834c5546db9c"
      },
      "execution_count": 54,
      "outputs": [
        {
          "output_type": "stream",
          "name": "stdout",
          "text": [
            "\tpered in alnother bust of himselt spripperming away he showed lievos around If Professor McOnand It's look ever nobe\n",
            "leed, me kit up there wasn't see Malfoy, Mr, All was a\n",
            " heard up abount. Chreel?\"\n",
            "\n",
            "Hagrid Guzpes, I\n",
            "roddmember there.\n",
            "\n",
            "If chaspeled someone coart.\n",
            "\n",
            "\"Thank dread the hall over nearn to cat -- see Mistice from the flitter; He'd\n",
            "bed from you, was around mat to ask heard his stears.\n",
            "\n",
            "On his from stimed Huddordy hese. Filch on Cade. \"\n",
            "\n",
            "\"Yes' yecle off, I began watch\n",
            "once.\n",
            "\n",
            "\"Fivand altry get ary suggelly.\n",
            "\n",
            "Harry live every snake the really worl, they get ween at all usuady.\n",
            "\n",
            "\"Cangely to heard admagal not this hand rasom, a Vernon playle spagetaked a tent three had down.\n",
            "\n",
            "\"Frices. every use, -- ghost going an, though he had in up. Tut he Fant, I villonge his best event it this head,\n",
            "Hagrid, and Wood, I'd trittents go teled.\n",
            "\n",
            "\"I wand very silects told off his sinuth\n",
            "a Pilvus, Sniffle's spuff, Weasleys.\n",
            "\n",
            "\"You! I've behalt believe. Hermione was, alodd comporing to\n",
            "casin? Thessy what steps\n",
            "clieked. They chinrops macing freem Now, his croak hissendly. \"Potter off!\" said, by smuggered nothing all very as allibves. I would be Wood cat swins Harry's man the were sole to both a doffime foo don.\n",
            "\n",
            "\"Durs in what before Malfright wond a free off, he'd pane going, hour trait in bis\n",
            "\n",
            "race we for and dragon, fright, of them lists lar. A can you, creecing to ght the grol on really admes flite his fawling Professor\n",
            "McGoncle passent cloaked going. Then your - --.\n",
            "\n",
            "\"Deal,\" said said it.\n",
            "\n",
            "There werning our folling speecie,\n",
            "lost scheartinge up.\n",
            "\n",
            "Harry no very on delide her couldn't\n",
            "smething streens\n",
            "with that did. He?\n",
            "was shaking, bigged lay ter up to the cat the could only. Uncle Volagail. Got eforged tell her and the can wands a very knew couldrone the potterward, Minds.\n",
            "Secalles, Melloby.\n",
            "\n",
            "\"That he'd\n",
            "Still Harry gead, and dedver now cloudlend of in matme. Hermione, heard heard. \"The never of sistion magice squits as trange, Alrock, who Greffinde, send will back acrage as winkal\n"
          ]
        }
      ]
    }
  ]
}